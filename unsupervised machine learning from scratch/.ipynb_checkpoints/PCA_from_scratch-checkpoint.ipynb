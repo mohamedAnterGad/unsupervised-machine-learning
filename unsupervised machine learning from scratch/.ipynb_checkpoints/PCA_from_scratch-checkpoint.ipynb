{
 "cells": [
  {
   "cell_type": "markdown",
   "id": "bbac4b40",
   "metadata": {},
   "source": [
    "## implementing PCA from scratch"
   ]
  },
  {
   "cell_type": "markdown",
   "id": "efb681a3",
   "metadata": {},
   "source": [
    "**the steps is as follows:**\n",
    "<br>\n",
    "1. normalize the data and save the mean and variance of the features\n",
    "2. calculate the covariance matrix\n",
    "3. calculate the eigen values and vectors of the  covariance\n",
    "4. order the eigen values and get the 95% sum\n",
    "5. put the corresponding eigen vectors in a matrix\n",
    "6. normalize the new vector (by the mean and variance calculated in step 1)\n",
    "7. multiply the new vector by that matrix"
   ]
  },
  {
   "cell_type": "markdown",
   "id": "4202c39e",
   "metadata": {},
   "source": [
    "**note that the sum of the eigen values of the cov matrix are the trace of the cov matrix**\n",
    "<br>\n",
    "**meaning that the sum will be equal to the number of features**"
   ]
  },
  {
   "cell_type": "markdown",
   "id": "bbd3001b",
   "metadata": {},
   "source": [
    "**note that normalizing the data using standardization (mean = 0 , std = 1) is a must**\n",
    "<br>\n",
    "**normalizing the data using min max normalization is not recommended in PCA)**"
   ]
  },
  {
   "cell_type": "markdown",
   "id": "af15474e",
   "metadata": {},
   "source": [
    "## imports"
   ]
  },
  {
   "cell_type": "code",
   "execution_count": 2,
   "id": "5f5ca70b",
   "metadata": {},
   "outputs": [],
   "source": [
    "import numpy as np\n",
    "import pandas as pd"
   ]
  },
  {
   "cell_type": "markdown",
   "id": "a23e748f",
   "metadata": {},
   "source": [
    "## pca class"
   ]
  },
  {
   "cell_type": "code",
   "execution_count": 74,
   "id": "b218a8f8",
   "metadata": {},
   "outputs": [],
   "source": [
    "class PCA ():\n",
    "    \"\"\"\n",
    "    this class to calculate the principle components of the data\n",
    "    1. make an object and pass the number of principle components (or the percent of the information to keep (preserve))\n",
    "    2. call the fit function and pass the data (m,n)\n",
    "    3. call the transform function to transform the new data (*,n)\n",
    "    \n",
    "    self.norm ---> the magnitude of each variable (feature) (1,n)\n",
    "    self.mean ---> the mean of all the variable (features) (1,n)\n",
    "    self.std  ---> the std - deviation of all the variables (features) (1,n)\n",
    "    \"\"\"\n",
    "\n",
    "    def __init__(self,n_components = 2):\n",
    "        \"\"\" this init function takes a single parameter:\n",
    "            n_component : may refer to the number of components (features) to use in pca(if n_component >1)\n",
    "            n_component : may refer to the ration of the information you want to keep (preserve)  (if n_componen<1)\n",
    "        \"\"\"\n",
    "        self.n_components = n_components\n",
    "        if self.n_components > 1:\n",
    "            self.type = 'var'\n",
    "        else:\n",
    "            self.type = 'ratio'\n",
    "\n",
    "    def fit(self,X):\n",
    "        \"\"\" this function takes one parameter : X\n",
    "            X is the data (numpy nd array or data frame(all numeric columns)) (m*n) matrix\n",
    "            and this function returns X_new (m*k) matrix where k < n\n",
    "            \n",
    "            this function also saves the means and variance of each feature \n",
    "            this function also saves the new components (new features) (n principle components)\n",
    "            after getting the n principle components we take only k components (highest variance)\n",
    "        \"\"\"\n",
    "        \n",
    "        X = np.array(X)\n",
    "        ## the dimensions of X\n",
    "        m,n = X.shape\n",
    "        \n",
    "        \n",
    "        ##########################\n",
    "        ## standardize the data ##\n",
    "        ##########################\n",
    "        self.mean = np.mean(X , axis =0 ).reshape(1,n) # this is the mean of all the features in the data\n",
    "        #X_meaned = X - self.mean \n",
    "        self.std = np.std(X , axis = 0).reshape(1,n)\n",
    "        X_standardized = (X-self.mean) / self.std\n",
    "        \n",
    "        \n",
    "        #####################################\n",
    "        ## step 2 calculate the cov matrix ##\n",
    "        #####################################\n",
    "        cov = np.cov(X_standardized , rowvar=False) ## rowvar = false to make the rows the observations and the columns are the features\n",
    "        \n",
    "        \n",
    "        ######################################################################\n",
    "        ## calculate the eigen values and eigen vectors (of the cov matrix) ##\n",
    "        ######################################################################\n",
    "        #note that eigen values may be zero if there is perfect correlation between 2 features (sol: using svd)\n",
    "        eigen_values , eigen_vectors = np.linalg.eig(cov)\n",
    "        \n",
    "        ## sort the eigen values\n",
    "        sorted_index = np.argsort(eigen_values)[::-1]\n",
    "        \n",
    "        sorted_eigen_values = eigen_values[sorted_index]\n",
    "        sorted_eigen_values = sorted_eigen_values / sum(sorted_eigen_values)\n",
    "\n",
    "        sorted_eigen_vectors = eigen_vectors [:,sorted_index]\n",
    "        self.components = sorted_eigen_vectors\n",
    "        \n",
    "        ##################################\n",
    "        ## get the desired eigen values ##\n",
    "        ##################################\n",
    "        self.cum_sum = np.cumsum(sorted_eigen_values)\n",
    "            \n",
    "        if self.type == 'var':\n",
    "            self.explained_variance = sorted_eigen_values[:self.n_components]\n",
    "            self.components = sorted_eigen_vectors[:,:self.n_components]\n",
    "        else:\n",
    "            self.components = sorted_eigen_vectors[:,self.cum_sum <= self.n_components] # the condition returns an array with true and false (if the cum_sum < ration you want then  return true) and return all the true values\n",
    "            #np.where(cum_sum < self.n_components ) [0][-1] # get the last element where cum_sum < ratio u want\n",
    "            self.explained_variance = sorted_eigen_values[self.cum_sum <= self.n_components]\n",
    "        \n",
    "        \n",
    "        ########################\n",
    "        ## transform the data ##\n",
    "        ########################\n",
    "        X_new = np.dot(X_standardized , self.components)        \n",
    "        return X_new\n",
    "\n",
    "    \n",
    "    def transform(self,Z):\n",
    "        Z_new = (Z - self.mean )/ self.std\n",
    "        Z_new = np.dot(Z_new , self.components)\n",
    "\n",
    "        return Z_new\n",
    "\n",
    "    #optional \n",
    "    def plot_explained_variance(self):\n",
    "        plt.bar(list(range(len(self.cum_sum))) ,self.cum_sum)\n",
    "        plt.axhline(self.cum_sum[len(self.explained_variance) - 1 ]) # length of the explained variance (if 2 elements then it returns 2) but we want the second element\n"
   ]
  },
  {
   "cell_type": "markdown",
   "id": "4640ff74",
   "metadata": {},
   "source": [
    "## trying pca on our data"
   ]
  },
  {
   "cell_type": "code",
   "execution_count": 89,
   "id": "53405c29",
   "metadata": {},
   "outputs": [
    {
     "name": "stdout",
     "output_type": "stream",
     "text": [
      "1.0\n",
      "[0.27295132 0.20314391 0.08812298 0.07480472 0.06225377 0.05739458\n",
      " 0.04883802 0.04298569 0.03799891 0.03080077 0.02372381]\n",
      "(8949, 11)\n"
     ]
    },
    {
     "data": {
      "image/png": "[encoded data removed]",
      "text/plain": [
       "<Figure size 432x288 with 1 Axes>"
      ]
     },
     "metadata": {
      "needs_background": "light"
     },
     "output_type": "display_data"
    }
   ],
   "source": [
    "data_path = '../data/CC GENERAL.csv'  #the path where you downloaded the data\n",
    "df = pd.read_csv(data_path)\n",
    "numerics = ['int16', 'int32', 'int64' , 'float']\n",
    "df = df.select_dtypes(include=numerics)\n",
    "df_copy = df\n",
    "##\n",
    "index_to_remove = df_copy[df_copy['CREDIT_LIMIT'].isna()].index[0] # [0] to return the integer only (as index returns index object which is basically a list)\n",
    "df_copy.drop(index = index_to_remove , inplace = True)\n",
    "df_copy.reset_index(drop = True) # to reset the index and drop the old index\n",
    "\n",
    "df_copy['MINIMUM_PAYMENTS'].fillna(df_copy['MINIMUM_PAYMENTS'].median(),inplace = True)\n",
    "\n",
    "##\n",
    "p = PCA(n_components=0.95)\n",
    "mat_reduced = p.fit(df_copy)\n",
    "p.plot_explained_variance()\n",
    "print(mat_reduced.shape)"
   ]
  },
  {
   "cell_type": "markdown",
   "id": "24b3d19f",
   "metadata": {},
   "source": [
    "## test the PCA class"
   ]
  },
  {
   "cell_type": "code",
   "execution_count": 76,
   "id": "de843a6f",
   "metadata": {},
   "outputs": [
    {
     "data": {
      "text/html": [
       "<div>\n",
       "<style scoped>\n",
       "    .dataframe tbody tr th:only-of-type {\n",
       "        vertical-align: middle;\n",
       "    }\n",
       "\n",
       "    .dataframe tbody tr th {\n",
       "        vertical-align: top;\n",
       "    }\n",
       "\n",
       "    .dataframe thead th {\n",
       "        text-align: right;\n",
       "    }\n",
       "</style>\n",
       "<table border=\"1\" class=\"dataframe\">\n",
       "  <thead>\n",
       "    <tr style=\"text-align: right;\">\n",
       "      <th></th>\n",
       "      <th>sepal_length</th>\n",
       "      <th>sepal_width</th>\n",
       "      <th>petal_length</th>\n",
       "      <th>petal_width</th>\n",
       "      <th>species</th>\n",
       "      <th>species_id</th>\n",
       "    </tr>\n",
       "  </thead>\n",
       "  <tbody>\n",
       "    <tr>\n",
       "      <th>0</th>\n",
       "      <td>5.1</td>\n",
       "      <td>3.5</td>\n",
       "      <td>1.4</td>\n",
       "      <td>0.2</td>\n",
       "      <td>setosa</td>\n",
       "      <td>1</td>\n",
       "    </tr>\n",
       "    <tr>\n",
       "      <th>1</th>\n",
       "      <td>4.9</td>\n",
       "      <td>3.0</td>\n",
       "      <td>1.4</td>\n",
       "      <td>0.2</td>\n",
       "      <td>setosa</td>\n",
       "      <td>1</td>\n",
       "    </tr>\n",
       "    <tr>\n",
       "      <th>2</th>\n",
       "      <td>4.7</td>\n",
       "      <td>3.2</td>\n",
       "      <td>1.3</td>\n",
       "      <td>0.2</td>\n",
       "      <td>setosa</td>\n",
       "      <td>1</td>\n",
       "    </tr>\n",
       "    <tr>\n",
       "      <th>3</th>\n",
       "      <td>4.6</td>\n",
       "      <td>3.1</td>\n",
       "      <td>1.5</td>\n",
       "      <td>0.2</td>\n",
       "      <td>setosa</td>\n",
       "      <td>1</td>\n",
       "    </tr>\n",
       "    <tr>\n",
       "      <th>4</th>\n",
       "      <td>5.0</td>\n",
       "      <td>3.6</td>\n",
       "      <td>1.4</td>\n",
       "      <td>0.2</td>\n",
       "      <td>setosa</td>\n",
       "      <td>1</td>\n",
       "    </tr>\n",
       "    <tr>\n",
       "      <th>...</th>\n",
       "      <td>...</td>\n",
       "      <td>...</td>\n",
       "      <td>...</td>\n",
       "      <td>...</td>\n",
       "      <td>...</td>\n",
       "      <td>...</td>\n",
       "    </tr>\n",
       "    <tr>\n",
       "      <th>145</th>\n",
       "      <td>6.7</td>\n",
       "      <td>3.0</td>\n",
       "      <td>5.2</td>\n",
       "      <td>2.3</td>\n",
       "      <td>virginica</td>\n",
       "      <td>3</td>\n",
       "    </tr>\n",
       "    <tr>\n",
       "      <th>146</th>\n",
       "      <td>6.3</td>\n",
       "      <td>2.5</td>\n",
       "      <td>5.0</td>\n",
       "      <td>1.9</td>\n",
       "      <td>virginica</td>\n",
       "      <td>3</td>\n",
       "    </tr>\n",
       "    <tr>\n",
       "      <th>147</th>\n",
       "      <td>6.5</td>\n",
       "      <td>3.0</td>\n",
       "      <td>5.2</td>\n",
       "      <td>2.0</td>\n",
       "      <td>virginica</td>\n",
       "      <td>3</td>\n",
       "    </tr>\n",
       "    <tr>\n",
       "      <th>148</th>\n",
       "      <td>6.2</td>\n",
       "      <td>3.4</td>\n",
       "      <td>5.4</td>\n",
       "      <td>2.3</td>\n",
       "      <td>virginica</td>\n",
       "      <td>3</td>\n",
       "    </tr>\n",
       "    <tr>\n",
       "      <th>149</th>\n",
       "      <td>5.9</td>\n",
       "      <td>3.0</td>\n",
       "      <td>5.1</td>\n",
       "      <td>1.8</td>\n",
       "      <td>virginica</td>\n",
       "      <td>3</td>\n",
       "    </tr>\n",
       "  </tbody>\n",
       "</table>\n",
       "<p>150 rows × 6 columns</p>\n",
       "</div>"
      ],
      "text/plain": [
       "     sepal_length  sepal_width  petal_length  petal_width    species  \\\n",
       "0             5.1          3.5           1.4          0.2     setosa   \n",
       "1             4.9          3.0           1.4          0.2     setosa   \n",
       "2             4.7          3.2           1.3          0.2     setosa   \n",
       "3             4.6          3.1           1.5          0.2     setosa   \n",
       "4             5.0          3.6           1.4          0.2     setosa   \n",
       "..            ...          ...           ...          ...        ...   \n",
       "145           6.7          3.0           5.2          2.3  virginica   \n",
       "146           6.3          2.5           5.0          1.9  virginica   \n",
       "147           6.5          3.0           5.2          2.0  virginica   \n",
       "148           6.2          3.4           5.4          2.3  virginica   \n",
       "149           5.9          3.0           5.1          1.8  virginica   \n",
       "\n",
       "     species_id  \n",
       "0             1  \n",
       "1             1  \n",
       "2             1  \n",
       "3             1  \n",
       "4             1  \n",
       "..          ...  \n",
       "145           3  \n",
       "146           3  \n",
       "147           3  \n",
       "148           3  \n",
       "149           3  \n",
       "\n",
       "[150 rows x 6 columns]"
      ]
     },
     "execution_count": 76,
     "metadata": {},
     "output_type": "execute_result"
    }
   ],
   "source": [
    "import plotly.express as px\n",
    "import pandas as pd\n",
    "iris = px.data.iris()\n",
    "iris.loc[:,'species']\n",
    "iris"
   ]
  },
  {
   "cell_type": "code",
   "execution_count": 77,
   "id": "0e38eaf6",
   "metadata": {},
   "outputs": [
    {
     "name": "stdout",
     "output_type": "stream",
     "text": [
      "1.0000000000000002\n",
      "[0.72770452 0.23030523]\n",
      "(150, 2)\n"
     ]
    },
    {
     "data": {
      "image/png": "[encoded data removed]",
      "text/plain": [
       "<Figure size 432x288 with 1 Axes>"
      ]
     },
     "metadata": {
      "needs_background": "light"
     },
     "output_type": "display_data"
    }
   ],
   "source": [
    "p = PCA(n_components=0.98)\n",
    "#p.\n",
    "#dir(px.data)\n",
    "target = iris.loc[:,'species']\n",
    "train = iris.drop(columns=['species_id' , 'species'])\n",
    "#iris.drop(columns= 'species' , inplace = True)\n",
    "train\n",
    "mat_reduced = p.fit(train)\n",
    "print(mat_reduced.shape)\n",
    "principal_df = pd.DataFrame(mat_reduced , columns = ['PC1','PC2'])\n",
    " \n",
    "#Concat it with target variable to create a complete Dataset\n",
    "principal_df = pd.concat([principal_df , pd.DataFrame(target)] , axis = 1)\n",
    "principal_df\n",
    "\n",
    "p.plot_explained_variance()"
   ]
  },
  {
   "cell_type": "code",
   "execution_count": 69,
   "id": "19bea54d",
   "metadata": {},
   "outputs": [
    {
     "data": {
      "application/vnd.plotly.v1+json": {
       "config": {
        "plotlyServerURL": "https://plot.ly"
       },
       "data": [
        {
         "hovertemplate": "species=setosa<br>PC1=%{x}<br>PC2=%{y}<extra></extra>",
         "legendgroup": "setosa",
         "marker": {
          "color": "#636efa",
          "symbol": "circle"
         },
         "mode": "markers",
         "name": "setosa",
         "orientation": "v",
         "showlegend": true,
         "type": "scatter",
         "x": [
          -2.2645417283949003,
          -2.086425500616158,
          -2.3679504490625254,
          -2.3041971611520085,
          -2.388777493505642,
          -2.070536807180554,
          -2.445711339630283,
          -2.233841858709266,
          -2.341957676455389,
          -2.1886757552808693,
          -2.1634865562665233,
          -2.327377754134374,
          -2.2240827220450017,
          -2.6397162608446285,
          -2.1922915084984305,
          -2.2514652145840666,
          -2.202750480080086,
          -2.1901791637910524,
          -1.894074293023669,
          -2.3399490704234087,
          -1.9145563949595175,
          -2.204645397533814,
          -2.7741697937051564,
          -1.820411563337214,
          -2.228217499459725,
          -1.9570240073413967,
          -2.0520633112766866,
          -2.1681936533450212,
          -2.140305963284158,
          -2.268790194387876,
          -2.144554429277134,
          -1.8319381022015875,
          -2.608202867663348,
          -2.4379508590951438,
          -2.1886757552808693,
          -2.211119896812422,
          -2.044416519319801,
          -2.1886757552808693,
          -2.4359522029660186,
          -2.1705472018842706,
          -2.2865272388409306,
          -1.8717072235369494,
          -2.557834419537512,
          -1.9642792903547375,
          -2.1333728329200286,
          -2.075357592837306,
          -2.3812582168023737,
          -2.398191687662638,
          -2.226781213091519,
          -2.205954168648402
         ],
         "xaxis": "x",
         "y": [
          -0.5057039027737844,
          0.6554047293691369,
          0.3184773108472493,
          0.5753677125331954,
          -0.6747673967025152,
          -1.5185485598885127,
          -0.07456267500687402,
          -0.24761393175226493,
          1.0951463625829554,
          0.4486290483375594,
          -1.0705955760377261,
          -0.15858745465947585,
          0.7091181580302265,
          0.9382819821078542,
          -1.8899785123164652,
          -2.722371076574469,
          -1.5137502825462181,
          -0.5143043082206926,
          -1.4311107069412363,
          -1.158033428985001,
          -0.4304651632801375,
          -0.9524573172889981,
          -0.48951702650349505,
          -0.10675079283540584,
          -0.1621861626661968,
          0.6078925674838084,
          -0.2660143119816549,
          -0.5520164953235396,
          -0.336640408845054,
          0.3148786028405283,
          0.48394209676925914,
          -0.4452668355028066,
          -1.8284751927341012,
          -2.1853916156308926,
          0.4486290483375594,
          0.1843378105402791,
          -0.6849564262949361,
          0.4486290483375594,
          0.8821694147756171,
          -0.292726954966446,
          -0.46799171567093784,
          2.3276916061149104,
          0.45381638048979317,
          -0.49739164001838326,
          -1.1714321117742037,
          0.6919173471364102,
          -1.1506325928736667,
          0.3623907647258572,
          -1.0254825528235445,
          -0.03223784527377927
         ],
         "yaxis": "y"
        },
        {
         "hovertemplate": "species=versicolor<br>PC1=%{x}<br>PC2=%{y}<extra></extra>",
         "legendgroup": "versicolor",
         "marker": {
          "color": "#EF553B",
          "symbol": "circle"
         },
         "mode": "markers",
         "name": "versicolor",
         "orientation": "v",
         "showlegend": true,
         "type": "scatter",
         "x": [
          1.1039936528045713,
          0.7324814400086803,
          1.2421095053189368,
          0.39730728282332817,
          1.072593948201545,
          0.3844581461690019,
          0.7487150759515523,
          -0.49786338779811684,
          0.9262223675330977,
          0.004968025584320152,
          -0.1246974613803693,
          0.43873011778054677,
          0.5516339814225081,
          0.7171650662368512,
          -0.037258382965688015,
          0.8758905359406826,
          0.3480064019802088,
          0.15339254456866713,
          1.2153032092161546,
          0.15694117564425125,
          0.7382561043698959,
          0.47236968234456844,
          1.2279882140834426,
          0.6293810453149018,
          0.700472799208458,
          0.8735369874014332,
          1.2542221905224495,
          1.3582398473872712,
          0.6621261375659377,
          -0.04728151331987972,
          0.12153420888011944,
          0.014118226051388473,
          0.2360108373265971,
          1.0566914280905768,
          0.2214170883302182,
          0.4317831607410531,
          1.0494133552191796,
          1.0358782103228246,
          0.06706759987298051,
          0.27542506625183494,
          0.2723350662617727,
          0.6231705397262214,
          0.33000536383722684,
          -0.3736276226873749,
          0.28294434295510323,
          0.08905311031901156,
          0.22435678320860622,
          0.5738834855584668,
          -0.45701287250467393,
          0.2522444732694695
         ],
         "xaxis": "x",
         "y": [
          -0.8631124458513231,
          -0.5986355733419962,
          -0.6148224496122854,
          1.758168947443527,
          0.21175790267989678,
          0.5910624686227371,
          -0.7786986113887812,
          1.8488687712754428,
          -0.030330826783379974,
          1.0294011124030886,
          2.658062677961761,
          0.05888128502145518,
          1.772581564856256,
          0.18543431450504477,
          0.4327950987141697,
          -0.5099981510591464,
          0.19062164665727852,
          0.7907254562344863,
          1.6333556445154842,
          1.303103270172912,
          -0.40247038161853516,
          0.4166082224438804,
          0.9409147925302734,
          0.416811642541773,
          0.06349392765170328,
          -0.2507086107020528,
          0.08262009981311375,
          -0.32882026627040084,
          0.22434607094346506,
          1.0572124126050213,
          1.5635923798655789,
          1.5733923546480606,
          0.7759237840118173,
          0.636901283768938,
          0.2808476930856408,
          -0.855136920218002,
          -0.5221972645127755,
          1.3924664843877819,
          0.21262073489338945,
          1.3298159131577028,
          1.1194415241194047,
          -0.02754263330229356,
          0.9889007318191556,
          2.017932265204174,
          0.8539507169865507,
          0.17490854779054243,
          0.3804846594865462,
          0.153719974080066,
          1.5394645102639812,
          0.5958607459650318
         ],
         "yaxis": "y"
        },
        {
         "hovertemplate": "species=virginica<br>PC1=%{x}<br>PC2=%{y}<extra></extra>",
         "legendgroup": "virginica",
         "marker": {
          "color": "#00cc96",
          "symbol": "circle"
         },
         "mode": "markers",
         "name": "virginica",
         "orientation": "v",
         "showlegend": true,
         "type": "scatter",
         "x": [
          1.847672594309664,
          1.1531898082521297,
          2.2063494971265927,
          1.4386854023261817,
          1.8678907025555844,
          2.7541967088257517,
          0.3583744748416691,
          2.3030058981503183,
          2.0017352992189164,
          2.267554599102267,
          1.3659094292022138,
          1.5990645856518695,
          1.8842518537520738,
          1.2530865143775927,
          1.464061522985623,
          1.5918093026385285,
          1.4712801894655434,
          2.4373784821935063,
          3.3091411826760786,
          1.2539809866905787,
          2.0404962596630383,
          0.9739151144704744,
          2.898064435843276,
          1.3291936913234934,
          1.7042407085196054,
          1.9577276617934343,
          1.1719045079878687,
          1.0197810528162627,
          1.7860088612484681,
          1.864777912707465,
          2.4354973914151428,
          2.3160824119611525,
          1.860371425852316,
          1.111271725675969,
          1.1974691551180379,
          2.800949403734028,
          1.5801552485205368,
          1.3470444243548014,
          0.9234329777663843,
          1.8535519840664403,
          2.0161572006777586,
          1.9031168585994864,
          1.1531898082521297,
          2.043308439287809,
          2.0016909669349974,
          1.8705220714601252,
          1.5584918907237175,
          1.5208450639985902,
          1.3763911906419277,
          0.9592985756160382
         ],
         "xaxis": "x",
         "y": [
          -0.8716966617734123,
          0.7013261138565762,
          -0.5544701049349214,
          0.050010522268886484,
          -0.2911928017611682,
          -0.7884322063548436,
          1.5600945839772897,
          -0.40951669522194223,
          0.7238653593126606,
          -1.9214429914653537,
          -0.6939480398041601,
          0.42824883590034063,
          -0.41433275795008295,
          1.1673913352452467,
          0.44414756947912426,
          -0.6770353716018508,
          -0.25319247196681455,
          -2.556757341494801,
          0.0023613201020845106,
          1.7175838442659788,
          -0.9073987650150519,
          0.571174376366267,
          -0.39779135917186675,
          0.48676054190372503,
          -1.0141484248357842,
          -1.0033345154297761,
          0.3188966173105688,
          -0.06554296309664723,
          0.1932727998568923,
          -0.5553815315789885,
          -0.24665446806897276,
          -2.626183869022626,
          0.18467239440998415,
          0.2959861024303912,
          0.8171677419136167,
          -0.8447481937849731,
          -1.0724744961271213,
          -0.4222559658955454,
          -0.01923037054689241,
          -0.6724227289716027,
          -0.6103970375551119,
          -0.686024831858698,
          0.7013261138565762,
          -0.8646848804720179,
          -1.0485500466234168,
          -0.38282183762299715,
          0.9053136014070671,
          -0.2667945748539099,
          -1.0163619287948849,
          0.02228394466056778
         ],
         "yaxis": "y"
        }
       ],
       "layout": {
        "legend": {
         "title": {
          "text": "species"
         },
         "tracegroupgap": 0
        },
        "margin": {
         "t": 60
        },
        "template": {
         "data": {
          "bar": [
           {
            "error_x": {
             "color": "#2a3f5f"
            },
            "error_y": {
             "color": "#2a3f5f"
            },
            "marker": {
             "line": {
              "color": "#E5ECF6",
              "width": 0.5
             },
             "pattern": {
              "fillmode": "overlay",
              "size": 10,
              "solidity": 0.2
             }
            },
            "type": "bar"
           }
          ],
          "barpolar": [
           {
            "marker": {
             "line": {
              "color": "#E5ECF6",
              "width": 0.5
             },
             "pattern": {
              "fillmode": "overlay",
              "size": 10,
              "solidity": 0.2
             }
            },
            "type": "barpolar"
           }
          ],
          "carpet": [
           {
            "aaxis": {
             "endlinecolor": "#2a3f5f",
             "gridcolor": "white",
             "linecolor": "white",
             "minorgridcolor": "white",
             "startlinecolor": "#2a3f5f"
            },
            "baxis": {
             "endlinecolor": "#2a3f5f",
             "gridcolor": "white",
             "linecolor": "white",
             "minorgridcolor": "white",
             "startlinecolor": "#2a3f5f"
            },
            "type": "carpet"
           }
          ],
          "choropleth": [
           {
            "colorbar": {
             "outlinewidth": 0,
             "ticks": ""
            },
            "type": "choropleth"
           }
          ],
          "contour": [
           {
            "colorbar": {
             "outlinewidth": 0,
             "ticks": ""
            },
            "colorscale": [
             [
              0,
              "#0d0887"
             ],
             [
              0.1111111111111111,
              "#46039f"
             ],
             [
              0.2222222222222222,
              "#7201a8"
             ],
             [
              0.3333333333333333,
              "#9c179e"
             ],
             [
              0.4444444444444444,
              "#bd3786"
             ],
             [
              0.5555555555555556,
              "#d8576b"
             ],
             [
              0.6666666666666666,
              "#ed7953"
             ],
             [
              0.7777777777777778,
              "#fb9f3a"
             ],
             [
              0.8888888888888888,
              "#fdca26"
             ],
             [
              1,
              "#f0f921"
             ]
            ],
            "type": "contour"
           }
          ],
          "contourcarpet": [
           {
            "colorbar": {
             "outlinewidth": 0,
             "ticks": ""
            },
            "type": "contourcarpet"
           }
          ],
          "heatmap": [
           {
            "colorbar": {
             "outlinewidth": 0,
             "ticks": ""
            },
            "colorscale": [
             [
              0,
              "#0d0887"
             ],
             [
              0.1111111111111111,
              "#46039f"
             ],
             [
              0.2222222222222222,
              "#7201a8"
             ],
             [
              0.3333333333333333,
              "#9c179e"
             ],
             [
              0.4444444444444444,
              "#bd3786"
             ],
             [
              0.5555555555555556,
              "#d8576b"
             ],
             [
              0.6666666666666666,
              "#ed7953"
             ],
             [
              0.7777777777777778,
              "#fb9f3a"
             ],
             [
              0.8888888888888888,
              "#fdca26"
             ],
             [
              1,
              "#f0f921"
             ]
            ],
            "type": "heatmap"
           }
          ],
          "heatmapgl": [
           {
            "colorbar": {
             "outlinewidth": 0,
             "ticks": ""
            },
            "colorscale": [
             [
              0,
              "#0d0887"
             ],
             [
              0.1111111111111111,
              "#46039f"
             ],
             [
              0.2222222222222222,
              "#7201a8"
             ],
             [
              0.3333333333333333,
              "#9c179e"
             ],
             [
              0.4444444444444444,
              "#bd3786"
             ],
             [
              0.5555555555555556,
              "#d8576b"
             ],
             [
              0.6666666666666666,
              "#ed7953"
             ],
             [
              0.7777777777777778,
              "#fb9f3a"
             ],
             [
              0.8888888888888888,
              "#fdca26"
             ],
             [
              1,
              "#f0f921"
             ]
            ],
            "type": "heatmapgl"
           }
          ],
          "histogram": [
           {
            "marker": {
             "pattern": {
              "fillmode": "overlay",
              "size": 10,
              "solidity": 0.2
             }
            },
            "type": "histogram"
           }
          ],
          "histogram2d": [
           {
            "colorbar": {
             "outlinewidth": 0,
             "ticks": ""
            },
            "colorscale": [
             [
              0,
              "#0d0887"
             ],
             [
              0.1111111111111111,
              "#46039f"
             ],
             [
              0.2222222222222222,
              "#7201a8"
             ],
             [
              0.3333333333333333,
              "#9c179e"
             ],
             [
              0.4444444444444444,
              "#bd3786"
             ],
             [
              0.5555555555555556,
              "#d8576b"
             ],
             [
              0.6666666666666666,
              "#ed7953"
             ],
             [
              0.7777777777777778,
              "#fb9f3a"
             ],
             [
              0.8888888888888888,
              "#fdca26"
             ],
             [
              1,
              "#f0f921"
             ]
            ],
            "type": "histogram2d"
           }
          ],
          "histogram2dcontour": [
           {
            "colorbar": {
             "outlinewidth": 0,
             "ticks": ""
            },
            "colorscale": [
             [
              0,
              "#0d0887"
             ],
             [
              0.1111111111111111,
              "#46039f"
             ],
             [
              0.2222222222222222,
              "#7201a8"
             ],
             [
              0.3333333333333333,
              "#9c179e"
             ],
             [
              0.4444444444444444,
              "#bd3786"
             ],
             [
              0.5555555555555556,
              "#d8576b"
             ],
             [
              0.6666666666666666,
              "#ed7953"
             ],
             [
              0.7777777777777778,
              "#fb9f3a"
             ],
             [
              0.8888888888888888,
              "#fdca26"
             ],
             [
              1,
              "#f0f921"
             ]
            ],
            "type": "histogram2dcontour"
           }
          ],
          "mesh3d": [
           {
            "colorbar": {
             "outlinewidth": 0,
             "ticks": ""
            },
            "type": "mesh3d"
           }
          ],
          "parcoords": [
           {
            "line": {
             "colorbar": {
              "outlinewidth": 0,
              "ticks": ""
             }
            },
            "type": "parcoords"
           }
          ],
          "pie": [
           {
            "automargin": true,
            "type": "pie"
           }
          ],
          "scatter": [
           {
            "marker": {
             "colorbar": {
              "outlinewidth": 0,
              "ticks": ""
             }
            },
            "type": "scatter"
           }
          ],
          "scatter3d": [
           {
            "line": {
             "colorbar": {
              "outlinewidth": 0,
              "ticks": ""
             }
            },
            "marker": {
             "colorbar": {
              "outlinewidth": 0,
              "ticks": ""
             }
            },
            "type": "scatter3d"
           }
          ],
          "scattercarpet": [
           {
            "marker": {
             "colorbar": {
              "outlinewidth": 0,
              "ticks": ""
             }
            },
            "type": "scattercarpet"
           }
          ],
          "scattergeo": [
           {
            "marker": {
             "colorbar": {
              "outlinewidth": 0,
              "ticks": ""
             }
            },
            "type": "scattergeo"
           }
          ],
          "scattergl": [
           {
            "marker": {
             "colorbar": {
              "outlinewidth": 0,
              "ticks": ""
             }
            },
            "type": "scattergl"
           }
          ],
          "scattermapbox": [
           {
            "marker": {
             "colorbar": {
              "outlinewidth": 0,
              "ticks": ""
             }
            },
            "type": "scattermapbox"
           }
          ],
          "scatterpolar": [
           {
            "marker": {
             "colorbar": {
              "outlinewidth": 0,
              "ticks": ""
             }
            },
            "type": "scatterpolar"
           }
          ],
          "scatterpolargl": [
           {
            "marker": {
             "colorbar": {
              "outlinewidth": 0,
              "ticks": ""
             }
            },
            "type": "scatterpolargl"
           }
          ],
          "scatterternary": [
           {
            "marker": {
             "colorbar": {
              "outlinewidth": 0,
              "ticks": ""
             }
            },
            "type": "scatterternary"
           }
          ],
          "surface": [
           {
            "colorbar": {
             "outlinewidth": 0,
             "ticks": ""
            },
            "colorscale": [
             [
              0,
              "#0d0887"
             ],
             [
              0.1111111111111111,
              "#46039f"
             ],
             [
              0.2222222222222222,
              "#7201a8"
             ],
             [
              0.3333333333333333,
              "#9c179e"
             ],
             [
              0.4444444444444444,
              "#bd3786"
             ],
             [
              0.5555555555555556,
              "#d8576b"
             ],
             [
              0.6666666666666666,
              "#ed7953"
             ],
             [
              0.7777777777777778,
              "#fb9f3a"
             ],
             [
              0.8888888888888888,
              "#fdca26"
             ],
             [
              1,
              "#f0f921"
             ]
            ],
            "type": "surface"
           }
          ],
          "table": [
           {
            "cells": {
             "fill": {
              "color": "#EBF0F8"
             },
             "line": {
              "color": "white"
             }
            },
            "header": {
             "fill": {
              "color": "#C8D4E3"
             },
             "line": {
              "color": "white"
             }
            },
            "type": "table"
           }
          ]
         },
         "layout": {
          "annotationdefaults": {
           "arrowcolor": "#2a3f5f",
           "arrowhead": 0,
           "arrowwidth": 1
          },
          "autotypenumbers": "strict",
          "coloraxis": {
           "colorbar": {
            "outlinewidth": 0,
            "ticks": ""
           }
          },
          "colorscale": {
           "diverging": [
            [
             0,
             "#8e0152"
            ],
            [
             0.1,
             "#c51b7d"
            ],
            [
             0.2,
             "#de77ae"
            ],
            [
             0.3,
             "#f1b6da"
            ],
            [
             0.4,
             "#fde0ef"
            ],
            [
             0.5,
             "#f7f7f7"
            ],
            [
             0.6,
             "#e6f5d0"
            ],
            [
             0.7,
             "#b8e186"
            ],
            [
             0.8,
             "#7fbc41"
            ],
            [
             0.9,
             "#4d9221"
            ],
            [
             1,
             "#276419"
            ]
           ],
           "sequential": [
            [
             0,
             "#0d0887"
            ],
            [
             0.1111111111111111,
             "#46039f"
            ],
            [
             0.2222222222222222,
             "#7201a8"
            ],
            [
             0.3333333333333333,
             "#9c179e"
            ],
            [
             0.4444444444444444,
             "#bd3786"
            ],
            [
             0.5555555555555556,
             "#d8576b"
            ],
            [
             0.6666666666666666,
             "#ed7953"
            ],
            [
             0.7777777777777778,
             "#fb9f3a"
            ],
            [
             0.8888888888888888,
             "#fdca26"
            ],
            [
             1,
             "#f0f921"
            ]
           ],
           "sequentialminus": [
            [
             0,
             "#0d0887"
            ],
            [
             0.1111111111111111,
             "#46039f"
            ],
            [
             0.2222222222222222,
             "#7201a8"
            ],
            [
             0.3333333333333333,
             "#9c179e"
            ],
            [
             0.4444444444444444,
             "#bd3786"
            ],
            [
             0.5555555555555556,
             "#d8576b"
            ],
            [
             0.6666666666666666,
             "#ed7953"
            ],
            [
             0.7777777777777778,
             "#fb9f3a"
            ],
            [
             0.8888888888888888,
             "#fdca26"
            ],
            [
             1,
             "#f0f921"
            ]
           ]
          },
          "colorway": [
           "#636efa",
           "#EF553B",
           "#00cc96",
           "#ab63fa",
           "#FFA15A",
           "#19d3f3",
           "#FF6692",
           "#B6E880",
           "#FF97FF",
           "#FECB52"
          ],
          "font": {
           "color": "#2a3f5f"
          },
          "geo": {
           "bgcolor": "white",
           "lakecolor": "white",
           "landcolor": "#E5ECF6",
           "showlakes": true,
           "showland": true,
           "subunitcolor": "white"
          },
          "hoverlabel": {
           "align": "left"
          },
          "hovermode": "closest",
          "mapbox": {
           "style": "light"
          },
          "paper_bgcolor": "white",
          "plot_bgcolor": "#E5ECF6",
          "polar": {
           "angularaxis": {
            "gridcolor": "white",
            "linecolor": "white",
            "ticks": ""
           },
           "bgcolor": "#E5ECF6",
           "radialaxis": {
            "gridcolor": "white",
            "linecolor": "white",
            "ticks": ""
           }
          },
          "scene": {
           "xaxis": {
            "backgroundcolor": "#E5ECF6",
            "gridcolor": "white",
            "gridwidth": 2,
            "linecolor": "white",
            "showbackground": true,
            "ticks": "",
            "zerolinecolor": "white"
           },
           "yaxis": {
            "backgroundcolor": "#E5ECF6",
            "gridcolor": "white",
            "gridwidth": 2,
            "linecolor": "white",
            "showbackground": true,
            "ticks": "",
            "zerolinecolor": "white"
           },
           "zaxis": {
            "backgroundcolor": "#E5ECF6",
            "gridcolor": "white",
            "gridwidth": 2,
            "linecolor": "white",
            "showbackground": true,
            "ticks": "",
            "zerolinecolor": "white"
           }
          },
          "shapedefaults": {
           "line": {
            "color": "#2a3f5f"
           }
          },
          "ternary": {
           "aaxis": {
            "gridcolor": "white",
            "linecolor": "white",
            "ticks": ""
           },
           "baxis": {
            "gridcolor": "white",
            "linecolor": "white",
            "ticks": ""
           },
           "bgcolor": "#E5ECF6",
           "caxis": {
            "gridcolor": "white",
            "linecolor": "white",
            "ticks": ""
           }
          },
          "title": {
           "x": 0.05
          },
          "xaxis": {
           "automargin": true,
           "gridcolor": "white",
           "linecolor": "white",
           "ticks": "",
           "title": {
            "standoff": 15
           },
           "zerolinecolor": "white",
           "zerolinewidth": 2
          },
          "yaxis": {
           "automargin": true,
           "gridcolor": "white",
           "linecolor": "white",
           "ticks": "",
           "title": {
            "standoff": 15
           },
           "zerolinecolor": "white",
           "zerolinewidth": 2
          }
         }
        },
        "xaxis": {
         "anchor": "y",
         "domain": [
          0,
          1
         ],
         "title": {
          "text": "PC1"
         }
        },
        "yaxis": {
         "anchor": "x",
         "domain": [
          0,
          1
         ],
         "title": {
          "text": "PC2"
         }
        }
       }
      },
      "text/html": [
       "<div>                            <div id=\"650bf826-d9ed-4715-a131-f37e668ebdb5\" class=\"plotly-graph-div\" style=\"height:525px; width:100%;\"></div>            <script type=\"text/javascript\">                require([\"plotly\"], function(Plotly) {                    window.PLOTLYENV=window.PLOTLYENV || {};                                    if (document.getElementById(\"650bf826-d9ed-4715-a131-f37e668ebdb5\")) {                    Plotly.newPlot(                        \"650bf826-d9ed-4715-a131-f37e668ebdb5\",                        [{\"hovertemplate\":\"species=setosa<br>PC1=%{x}<br>PC2=%{y}<extra></extra>\",\"legendgroup\":\"setosa\",\"marker\":{\"color\":\"#636efa\",\"symbol\":\"circle\"},\"mode\":\"markers\",\"name\":\"setosa\",\"orientation\":\"v\",\"showlegend\":true,\"x\":[-2.2645417283949003,-2.086425500616158,-2.3679504490625254,-2.3041971611520085,-2.388777493505642,-2.070536807180554,-2.445711339630283,-2.233841858709266,-2.341957676455389,-2.1886757552808693,-2.1634865562665233,-2.327377754134374,-2.2240827220450017,-2.6397162608446285,-2.1922915084984305,-2.2514652145840666,-2.202750480080086,-2.1901791637910524,-1.894074293023669,-2.3399490704234087,-1.9145563949595175,-2.204645397533814,-2.7741697937051564,-1.820411563337214,-2.228217499459725,-1.9570240073413967,-2.0520633112766866,-2.1681936533450212,-2.140305963284158,-2.268790194387876,-2.144554429277134,-1.8319381022015875,-2.608202867663348,-2.4379508590951438,-2.1886757552808693,-2.211119896812422,-2.044416519319801,-2.1886757552808693,-2.4359522029660186,-2.1705472018842706,-2.2865272388409306,-1.8717072235369494,-2.557834419537512,-1.9642792903547375,-2.1333728329200286,-2.075357592837306,-2.3812582168023737,-2.398191687662638,-2.226781213091519,-2.205954168648402],\"xaxis\":\"x\",\"y\":[-0.5057039027737844,0.6554047293691369,0.3184773108472493,0.5753677125331954,-0.6747673967025152,-1.5185485598885127,-0.07456267500687402,-0.24761393175226493,1.0951463625829554,0.4486290483375594,-1.0705955760377261,-0.15858745465947585,0.7091181580302265,0.9382819821078542,-1.8899785123164652,-2.722371076574469,-1.5137502825462181,-0.5143043082206926,-1.4311107069412363,-1.158033428985001,-0.4304651632801375,-0.9524573172889981,-0.48951702650349505,-0.10675079283540584,-0.1621861626661968,0.6078925674838084,-0.2660143119816549,-0.5520164953235396,-0.336640408845054,0.3148786028405283,0.48394209676925914,-0.4452668355028066,-1.8284751927341012,-2.1853916156308926,0.4486290483375594,0.1843378105402791,-0.6849564262949361,0.4486290483375594,0.8821694147756171,-0.292726954966446,-0.46799171567093784,2.3276916061149104,0.45381638048979317,-0.49739164001838326,-1.1714321117742037,0.6919173471364102,-1.1506325928736667,0.3623907647258572,-1.0254825528235445,-0.03223784527377927],\"yaxis\":\"y\",\"type\":\"scatter\"},{\"hovertemplate\":\"species=versicolor<br>PC1=%{x}<br>PC2=%{y}<extra></extra>\",\"legendgroup\":\"versicolor\",\"marker\":{\"color\":\"#EF553B\",\"symbol\":\"circle\"},\"mode\":\"markers\",\"name\":\"versicolor\",\"orientation\":\"v\",\"showlegend\":true,\"x\":[1.1039936528045713,0.7324814400086803,1.2421095053189368,0.39730728282332817,1.072593948201545,0.3844581461690019,0.7487150759515523,-0.49786338779811684,0.9262223675330977,0.004968025584320152,-0.1246974613803693,0.43873011778054677,0.5516339814225081,0.7171650662368512,-0.037258382965688015,0.8758905359406826,0.3480064019802088,0.15339254456866713,1.2153032092161546,0.15694117564425125,0.7382561043698959,0.47236968234456844,1.2279882140834426,0.6293810453149018,0.700472799208458,0.8735369874014332,1.2542221905224495,1.3582398473872712,0.6621261375659377,-0.04728151331987972,0.12153420888011944,0.014118226051388473,0.2360108373265971,1.0566914280905768,0.2214170883302182,0.4317831607410531,1.0494133552191796,1.0358782103228246,0.06706759987298051,0.27542506625183494,0.2723350662617727,0.6231705397262214,0.33000536383722684,-0.3736276226873749,0.28294434295510323,0.08905311031901156,0.22435678320860622,0.5738834855584668,-0.45701287250467393,0.2522444732694695],\"xaxis\":\"x\",\"y\":[-0.8631124458513231,-0.5986355733419962,-0.6148224496122854,1.758168947443527,0.21175790267989678,0.5910624686227371,-0.7786986113887812,1.8488687712754428,-0.030330826783379974,1.0294011124030886,2.658062677961761,0.05888128502145518,1.772581564856256,0.18543431450504477,0.4327950987141697,-0.5099981510591464,0.19062164665727852,0.7907254562344863,1.6333556445154842,1.303103270172912,-0.40247038161853516,0.4166082224438804,0.9409147925302734,0.416811642541773,0.06349392765170328,-0.2507086107020528,0.08262009981311375,-0.32882026627040084,0.22434607094346506,1.0572124126050213,1.5635923798655789,1.5733923546480606,0.7759237840118173,0.636901283768938,0.2808476930856408,-0.855136920218002,-0.5221972645127755,1.3924664843877819,0.21262073489338945,1.3298159131577028,1.1194415241194047,-0.02754263330229356,0.9889007318191556,2.017932265204174,0.8539507169865507,0.17490854779054243,0.3804846594865462,0.153719974080066,1.5394645102639812,0.5958607459650318],\"yaxis\":\"y\",\"type\":\"scatter\"},{\"hovertemplate\":\"species=virginica<br>PC1=%{x}<br>PC2=%{y}<extra></extra>\",\"legendgroup\":\"virginica\",\"marker\":{\"color\":\"#00cc96\",\"symbol\":\"circle\"},\"mode\":\"markers\",\"name\":\"virginica\",\"orientation\":\"v\",\"showlegend\":true,\"x\":[1.847672594309664,1.1531898082521297,2.2063494971265927,1.4386854023261817,1.8678907025555844,2.7541967088257517,0.3583744748416691,2.3030058981503183,2.0017352992189164,2.267554599102267,1.3659094292022138,1.5990645856518695,1.8842518537520738,1.2530865143775927,1.464061522985623,1.5918093026385285,1.4712801894655434,2.4373784821935063,3.3091411826760786,1.2539809866905787,2.0404962596630383,0.9739151144704744,2.898064435843276,1.3291936913234934,1.7042407085196054,1.9577276617934343,1.1719045079878687,1.0197810528162627,1.7860088612484681,1.864777912707465,2.4354973914151428,2.3160824119611525,1.860371425852316,1.111271725675969,1.1974691551180379,2.800949403734028,1.5801552485205368,1.3470444243548014,0.9234329777663843,1.8535519840664403,2.0161572006777586,1.9031168585994864,1.1531898082521297,2.043308439287809,2.0016909669349974,1.8705220714601252,1.5584918907237175,1.5208450639985902,1.3763911906419277,0.9592985756160382],\"xaxis\":\"x\",\"y\":[-0.8716966617734123,0.7013261138565762,-0.5544701049349214,0.050010522268886484,-0.2911928017611682,-0.7884322063548436,1.5600945839772897,-0.40951669522194223,0.7238653593126606,-1.9214429914653537,-0.6939480398041601,0.42824883590034063,-0.41433275795008295,1.1673913352452467,0.44414756947912426,-0.6770353716018508,-0.25319247196681455,-2.556757341494801,0.0023613201020845106,1.7175838442659788,-0.9073987650150519,0.571174376366267,-0.39779135917186675,0.48676054190372503,-1.0141484248357842,-1.0033345154297761,0.3188966173105688,-0.06554296309664723,0.1932727998568923,-0.5553815315789885,-0.24665446806897276,-2.626183869022626,0.18467239440998415,0.2959861024303912,0.8171677419136167,-0.8447481937849731,-1.0724744961271213,-0.4222559658955454,-0.01923037054689241,-0.6724227289716027,-0.6103970375551119,-0.686024831858698,0.7013261138565762,-0.8646848804720179,-1.0485500466234168,-0.38282183762299715,0.9053136014070671,-0.2667945748539099,-1.0163619287948849,0.02228394466056778],\"yaxis\":\"y\",\"type\":\"scatter\"}],                        {\"template\":{\"data\":{\"bar\":[{\"error_x\":{\"color\":\"#2a3f5f\"},\"error_y\":{\"color\":\"#2a3f5f\"},\"marker\":{\"line\":{\"color\":\"#E5ECF6\",\"width\":0.5},\"pattern\":{\"fillmode\":\"overlay\",\"size\":10,\"solidity\":0.2}},\"type\":\"bar\"}],\"barpolar\":[{\"marker\":{\"line\":{\"color\":\"#E5ECF6\",\"width\":0.5},\"pattern\":{\"fillmode\":\"overlay\",\"size\":10,\"solidity\":0.2}},\"type\":\"barpolar\"}],\"carpet\":[{\"aaxis\":{\"endlinecolor\":\"#2a3f5f\",\"gridcolor\":\"white\",\"linecolor\":\"white\",\"minorgridcolor\":\"white\",\"startlinecolor\":\"#2a3f5f\"},\"baxis\":{\"endlinecolor\":\"#2a3f5f\",\"gridcolor\":\"white\",\"linecolor\":\"white\",\"minorgridcolor\":\"white\",\"startlinecolor\":\"#2a3f5f\"},\"type\":\"carpet\"}],\"choropleth\":[{\"colorbar\":{\"outlinewidth\":0,\"ticks\":\"\"},\"type\":\"choropleth\"}],\"contour\":[{\"colorbar\":{\"outlinewidth\":0,\"ticks\":\"\"},\"colorscale\":[[0.0,\"#0d0887\"],[0.1111111111111111,\"#46039f\"],[0.2222222222222222,\"#7201a8\"],[0.3333333333333333,\"#9c179e\"],[0.4444444444444444,\"#bd3786\"],[0.5555555555555556,\"#d8576b\"],[0.6666666666666666,\"#ed7953\"],[0.7777777777777778,\"#fb9f3a\"],[0.8888888888888888,\"#fdca26\"],[1.0,\"#f0f921\"]],\"type\":\"contour\"}],\"contourcarpet\":[{\"colorbar\":{\"outlinewidth\":0,\"ticks\":\"\"},\"type\":\"contourcarpet\"}],\"heatmap\":[{\"colorbar\":{\"outlinewidth\":0,\"ticks\":\"\"},\"colorscale\":[[0.0,\"#0d0887\"],[0.1111111111111111,\"#46039f\"],[0.2222222222222222,\"#7201a8\"],[0.3333333333333333,\"#9c179e\"],[0.4444444444444444,\"#bd3786\"],[0.5555555555555556,\"#d8576b\"],[0.6666666666666666,\"#ed7953\"],[0.7777777777777778,\"#fb9f3a\"],[0.8888888888888888,\"#fdca26\"],[1.0,\"#f0f921\"]],\"type\":\"heatmap\"}],\"heatmapgl\":[{\"colorbar\":{\"outlinewidth\":0,\"ticks\":\"\"},\"colorscale\":[[0.0,\"#0d0887\"],[0.1111111111111111,\"#46039f\"],[0.2222222222222222,\"#7201a8\"],[0.3333333333333333,\"#9c179e\"],[0.4444444444444444,\"#bd3786\"],[0.5555555555555556,\"#d8576b\"],[0.6666666666666666,\"#ed7953\"],[0.7777777777777778,\"#fb9f3a\"],[0.8888888888888888,\"#fdca26\"],[1.0,\"#f0f921\"]],\"type\":\"heatmapgl\"}],\"histogram\":[{\"marker\":{\"pattern\":{\"fillmode\":\"overlay\",\"size\":10,\"solidity\":0.2}},\"type\":\"histogram\"}],\"histogram2d\":[{\"colorbar\":{\"outlinewidth\":0,\"ticks\":\"\"},\"colorscale\":[[0.0,\"#0d0887\"],[0.1111111111111111,\"#46039f\"],[0.2222222222222222,\"#7201a8\"],[0.3333333333333333,\"#9c179e\"],[0.4444444444444444,\"#bd3786\"],[0.5555555555555556,\"#d8576b\"],[0.6666666666666666,\"#ed7953\"],[0.7777777777777778,\"#fb9f3a\"],[0.8888888888888888,\"#fdca26\"],[1.0,\"#f0f921\"]],\"type\":\"histogram2d\"}],\"histogram2dcontour\":[{\"colorbar\":{\"outlinewidth\":0,\"ticks\":\"\"},\"colorscale\":[[0.0,\"#0d0887\"],[0.1111111111111111,\"#46039f\"],[0.2222222222222222,\"#7201a8\"],[0.3333333333333333,\"#9c179e\"],[0.4444444444444444,\"#bd3786\"],[0.5555555555555556,\"#d8576b\"],[0.6666666666666666,\"#ed7953\"],[0.7777777777777778,\"#fb9f3a\"],[0.8888888888888888,\"#fdca26\"],[1.0,\"#f0f921\"]],\"type\":\"histogram2dcontour\"}],\"mesh3d\":[{\"colorbar\":{\"outlinewidth\":0,\"ticks\":\"\"},\"type\":\"mesh3d\"}],\"parcoords\":[{\"line\":{\"colorbar\":{\"outlinewidth\":0,\"ticks\":\"\"}},\"type\":\"parcoords\"}],\"pie\":[{\"automargin\":true,\"type\":\"pie\"}],\"scatter\":[{\"marker\":{\"colorbar\":{\"outlinewidth\":0,\"ticks\":\"\"}},\"type\":\"scatter\"}],\"scatter3d\":[{\"line\":{\"colorbar\":{\"outlinewidth\":0,\"ticks\":\"\"}},\"marker\":{\"colorbar\":{\"outlinewidth\":0,\"ticks\":\"\"}},\"type\":\"scatter3d\"}],\"scattercarpet\":[{\"marker\":{\"colorbar\":{\"outlinewidth\":0,\"ticks\":\"\"}},\"type\":\"scattercarpet\"}],\"scattergeo\":[{\"marker\":{\"colorbar\":{\"outlinewidth\":0,\"ticks\":\"\"}},\"type\":\"scattergeo\"}],\"scattergl\":[{\"marker\":{\"colorbar\":{\"outlinewidth\":0,\"ticks\":\"\"}},\"type\":\"scattergl\"}],\"scattermapbox\":[{\"marker\":{\"colorbar\":{\"outlinewidth\":0,\"ticks\":\"\"}},\"type\":\"scattermapbox\"}],\"scatterpolar\":[{\"marker\":{\"colorbar\":{\"outlinewidth\":0,\"ticks\":\"\"}},\"type\":\"scatterpolar\"}],\"scatterpolargl\":[{\"marker\":{\"colorbar\":{\"outlinewidth\":0,\"ticks\":\"\"}},\"type\":\"scatterpolargl\"}],\"scatterternary\":[{\"marker\":{\"colorbar\":{\"outlinewidth\":0,\"ticks\":\"\"}},\"type\":\"scatterternary\"}],\"surface\":[{\"colorbar\":{\"outlinewidth\":0,\"ticks\":\"\"},\"colorscale\":[[0.0,\"#0d0887\"],[0.1111111111111111,\"#46039f\"],[0.2222222222222222,\"#7201a8\"],[0.3333333333333333,\"#9c179e\"],[0.4444444444444444,\"#bd3786\"],[0.5555555555555556,\"#d8576b\"],[0.6666666666666666,\"#ed7953\"],[0.7777777777777778,\"#fb9f3a\"],[0.8888888888888888,\"#fdca26\"],[1.0,\"#f0f921\"]],\"type\":\"surface\"}],\"table\":[{\"cells\":{\"fill\":{\"color\":\"#EBF0F8\"},\"line\":{\"color\":\"white\"}},\"header\":{\"fill\":{\"color\":\"#C8D4E3\"},\"line\":{\"color\":\"white\"}},\"type\":\"table\"}]},\"layout\":{\"annotationdefaults\":{\"arrowcolor\":\"#2a3f5f\",\"arrowhead\":0,\"arrowwidth\":1},\"autotypenumbers\":\"strict\",\"coloraxis\":{\"colorbar\":{\"outlinewidth\":0,\"ticks\":\"\"}},\"colorscale\":{\"diverging\":[[0,\"#8e0152\"],[0.1,\"#c51b7d\"],[0.2,\"#de77ae\"],[0.3,\"#f1b6da\"],[0.4,\"#fde0ef\"],[0.5,\"#f7f7f7\"],[0.6,\"#e6f5d0\"],[0.7,\"#b8e186\"],[0.8,\"#7fbc41\"],[0.9,\"#4d9221\"],[1,\"#276419\"]],\"sequential\":[[0.0,\"#0d0887\"],[0.1111111111111111,\"#46039f\"],[0.2222222222222222,\"#7201a8\"],[0.3333333333333333,\"#9c179e\"],[0.4444444444444444,\"#bd3786\"],[0.5555555555555556,\"#d8576b\"],[0.6666666666666666,\"#ed7953\"],[0.7777777777777778,\"#fb9f3a\"],[0.8888888888888888,\"#fdca26\"],[1.0,\"#f0f921\"]],\"sequentialminus\":[[0.0,\"#0d0887\"],[0.1111111111111111,\"#46039f\"],[0.2222222222222222,\"#7201a8\"],[0.3333333333333333,\"#9c179e\"],[0.4444444444444444,\"#bd3786\"],[0.5555555555555556,\"#d8576b\"],[0.6666666666666666,\"#ed7953\"],[0.7777777777777778,\"#fb9f3a\"],[0.8888888888888888,\"#fdca26\"],[1.0,\"#f0f921\"]]},\"colorway\":[\"#636efa\",\"#EF553B\",\"#00cc96\",\"#ab63fa\",\"#FFA15A\",\"#19d3f3\",\"#FF6692\",\"#B6E880\",\"#FF97FF\",\"#FECB52\"],\"font\":{\"color\":\"#2a3f5f\"},\"geo\":{\"bgcolor\":\"white\",\"lakecolor\":\"white\",\"landcolor\":\"#E5ECF6\",\"showlakes\":true,\"showland\":true,\"subunitcolor\":\"white\"},\"hoverlabel\":{\"align\":\"left\"},\"hovermode\":\"closest\",\"mapbox\":{\"style\":\"light\"},\"paper_bgcolor\":\"white\",\"plot_bgcolor\":\"#E5ECF6\",\"polar\":{\"angularaxis\":{\"gridcolor\":\"white\",\"linecolor\":\"white\",\"ticks\":\"\"},\"bgcolor\":\"#E5ECF6\",\"radialaxis\":{\"gridcolor\":\"white\",\"linecolor\":\"white\",\"ticks\":\"\"}},\"scene\":{\"xaxis\":{\"backgroundcolor\":\"#E5ECF6\",\"gridcolor\":\"white\",\"gridwidth\":2,\"linecolor\":\"white\",\"showbackground\":true,\"ticks\":\"\",\"zerolinecolor\":\"white\"},\"yaxis\":{\"backgroundcolor\":\"#E5ECF6\",\"gridcolor\":\"white\",\"gridwidth\":2,\"linecolor\":\"white\",\"showbackground\":true,\"ticks\":\"\",\"zerolinecolor\":\"white\"},\"zaxis\":{\"backgroundcolor\":\"#E5ECF6\",\"gridcolor\":\"white\",\"gridwidth\":2,\"linecolor\":\"white\",\"showbackground\":true,\"ticks\":\"\",\"zerolinecolor\":\"white\"}},\"shapedefaults\":{\"line\":{\"color\":\"#2a3f5f\"}},\"ternary\":{\"aaxis\":{\"gridcolor\":\"white\",\"linecolor\":\"white\",\"ticks\":\"\"},\"baxis\":{\"gridcolor\":\"white\",\"linecolor\":\"white\",\"ticks\":\"\"},\"bgcolor\":\"#E5ECF6\",\"caxis\":{\"gridcolor\":\"white\",\"linecolor\":\"white\",\"ticks\":\"\"}},\"title\":{\"x\":0.05},\"xaxis\":{\"automargin\":true,\"gridcolor\":\"white\",\"linecolor\":\"white\",\"ticks\":\"\",\"title\":{\"standoff\":15},\"zerolinecolor\":\"white\",\"zerolinewidth\":2},\"yaxis\":{\"automargin\":true,\"gridcolor\":\"white\",\"linecolor\":\"white\",\"ticks\":\"\",\"title\":{\"standoff\":15},\"zerolinecolor\":\"white\",\"zerolinewidth\":2}}},\"xaxis\":{\"anchor\":\"y\",\"domain\":[0.0,1.0],\"title\":{\"text\":\"PC1\"}},\"yaxis\":{\"anchor\":\"x\",\"domain\":[0.0,1.0],\"title\":{\"text\":\"PC2\"}},\"legend\":{\"title\":{\"text\":\"species\"},\"tracegroupgap\":0},\"margin\":{\"t\":60}},                        {\"responsive\": true}                    ).then(function(){\n",
       "                            \n",
       "var gd = document.getElementById('650bf826-d9ed-4715-a131-f37e668ebdb5');\n",
       "var x = new MutationObserver(function (mutations, observer) {{\n",
       "        var display = window.getComputedStyle(gd).display;\n",
       "        if (!display || display === 'none') {{\n",
       "            console.log([gd, 'removed!']);\n",
       "            Plotly.purge(gd);\n",
       "            observer.disconnect();\n",
       "        }}\n",
       "}});\n",
       "\n",
       "// Listen for the removal of the full notebook cells\n",
       "var notebookContainer = gd.closest('#notebook-container');\n",
       "if (notebookContainer) {{\n",
       "    x.observe(notebookContainer, {childList: true});\n",
       "}}\n",
       "\n",
       "// Listen for the clearing of the current output cell\n",
       "var outputEl = gd.closest('.output');\n",
       "if (outputEl) {{\n",
       "    x.observe(outputEl, {childList: true});\n",
       "}}\n",
       "\n",
       "                        })                };                });            </script>        </div>"
      ]
     },
     "metadata": {},
     "output_type": "display_data"
    },
    {
     "data": {
      "text/plain": [
       "<Figure size 576x576 with 0 Axes>"
      ]
     },
     "metadata": {},
     "output_type": "display_data"
    }
   ],
   "source": [
    "import seaborn as sb\n",
    "import matplotlib.pyplot as plt\n",
    " \n",
    "plt.figure(figsize = (8,8))\n",
    "px.scatter(principal_df , x = 'PC1' , y = 'PC2' , color = 'species')\n",
    "#sb.scatterplot(data = principal_df , x = 'PC1',y = 'PC2' , hue = 'species_id' , s = 60 , palette= 'icefire')"
   ]
  },
  {
   "cell_type": "markdown",
   "id": "504b5990",
   "metadata": {},
   "source": [
    "### testing the normalization of matrix"
   ]
  },
  {
   "cell_type": "code",
   "execution_count": 1,
   "id": "4c332f24",
   "metadata": {},
   "outputs": [
    {
     "ename": "NameError",
     "evalue": "name 'np' is not defined",
     "output_type": "error",
     "traceback": [
      "\u001b[0;31m---------------------------------------------------------------------------\u001b[0m",
      "\u001b[0;31mNameError\u001b[0m                                 Traceback (most recent call last)",
      "Input \u001b[0;32mIn [1]\u001b[0m, in \u001b[0;36m<module>\u001b[0;34m\u001b[0m\n\u001b[1;32m      1\u001b[0m \u001b[38;5;66;03m################################################\u001b[39;00m\n\u001b[1;32m      2\u001b[0m \u001b[38;5;66;03m## first normalize the data (normalize scalae) ##\u001b[39;00m\n\u001b[1;32m      3\u001b[0m \u001b[38;5;66;03m################################################\u001b[39;00m\n\u001b[0;32m----> 4\u001b[0m \u001b[38;5;28mself\u001b[39m\u001b[38;5;241m.\u001b[39mnorm \u001b[38;5;241m=\u001b[39m \u001b[43mnp\u001b[49m\u001b[38;5;241m.\u001b[39mlinalg\u001b[38;5;241m.\u001b[39mnorm(X , axis \u001b[38;5;241m=\u001b[39m \u001b[38;5;241m0\u001b[39m) \u001b[38;5;66;03m## to calculate the sum along the rows (sum for each column)\u001b[39;00m\n\u001b[1;32m      5\u001b[0m \u001b[38;5;28mself\u001b[39m\u001b[38;5;241m.\u001b[39mnorm \u001b[38;5;241m=\u001b[39m \u001b[38;5;28mself\u001b[39m\u001b[38;5;241m.\u001b[39mnorm\u001b[38;5;241m.\u001b[39mreshape(\u001b[38;5;241m1\u001b[39m,n)\n\u001b[1;32m      6\u001b[0m X_normalized \u001b[38;5;241m=\u001b[39m X\u001b[38;5;241m/\u001b[39m\u001b[38;5;28mself\u001b[39m\u001b[38;5;241m.\u001b[39mnorm\n",
      "\u001b[0;31mNameError\u001b[0m: name 'np' is not defined"
     ]
    }
   ],
   "source": [
    "################################################\n",
    "## first normalize the data (normalize scalae) ##\n",
    "################################################\n",
    "self.norm = np.linalg.norm(X , axis = 0) ## to calculate the sum along the rows (sum for each column)\n",
    "self.norm = self.norm.reshape(1,n)\n",
    "X_normalized = X/self.norm  # norm is (1,n) and X is (m,n) (the division happens using broadcasting)\n"
   ]
  },
  {
   "cell_type": "code",
   "execution_count": 10,
   "id": "b583126c",
   "metadata": {
    "scrolled": true
   },
   "outputs": [
    {
     "name": "stdout",
     "output_type": "stream",
     "text": [
      "[[0.28756604 0.72407724 0.53170589]\n",
      " [0.45964062 0.11882597 0.11331133]\n",
      " [0.04459569 0.6596918  0.43663803]\n",
      " [0.54364705 0.01567744 0.70452329]\n",
      " [0.63913644 0.16172042 0.13207405]]\n",
      "----------------------------------------------------------------------------------------------------\n",
      "[[0.28756604 0.72407724 0.53170589]\n",
      " [0.45964062 0.11882597 0.11331133]\n",
      " [0.04459569 0.6596918  0.43663803]\n",
      " [0.54364705 0.01567744 0.70452329]\n",
      " [0.63913644 0.16172042 0.13207405]]\n"
     ]
    },
    {
     "data": {
      "text/plain": [
       "(1, 3)"
      ]
     },
     "execution_count": 10,
     "metadata": {},
     "output_type": "execute_result"
    }
   ],
   "source": [
    "np.random.seed(42)\n",
    "mat = np.random.rand(5,3)\n",
    "mat*=10\n",
    "norm = np.linalg.norm(mat , axis = 0) ## to calculate the sum along the rows (sum for each column)\n",
    "norm = norm.reshape(1,3)\n",
    "print(mat/norm)\n",
    "\n",
    "from sklearn.preprocessing import normalize\n",
    "normed_matrix = normalize(mat, axis=0, norm='l2')\n",
    "print('-'*100)\n",
    "print(normed_matrix)\n",
    "norm.shape"
   ]
  },
  {
   "cell_type": "markdown",
   "id": "964a826c",
   "metadata": {},
   "source": [
    "## 'test the mean of matrix'"
   ]
  },
  {
   "cell_type": "code",
   "execution_count": 11,
   "id": "1df1f17c",
   "metadata": {},
   "outputs": [
    {
     "name": "stdout",
     "output_type": "stream",
     "text": [
      "[[5.14359487 4.4116654  5.28167659]]\n",
      "(1, 3)\n",
      "[5.14359487 4.4116654  5.28167659]\n",
      "[2.7332951  3.87513268 3.1637596 ]\n"
     ]
    }
   ],
   "source": [
    "n = mat.shape[1]\n",
    "m = np.mean(mat , axis = 0).reshape(1,n)\n",
    "mat - m\n",
    "print(m)\n",
    "print (m.shape)\n",
    "print(mat.mean(axis = 0) )\n",
    "print(np.std(mat,axis=0))"
   ]
  },
  {
   "cell_type": "code",
   "execution_count": 12,
   "id": "fa5c5896",
   "metadata": {},
   "outputs": [
    {
     "data": {
      "text/plain": [
       "(5, 3)"
      ]
     },
     "execution_count": 12,
     "metadata": {},
     "output_type": "execute_result"
    }
   ],
   "source": [
    "m,n = mat.shape\n",
    "m,n"
   ]
  },
  {
   "cell_type": "markdown",
   "id": "19fb1104",
   "metadata": {},
   "source": [
    "## test the eigen values of matrix"
   ]
  },
  {
   "cell_type": "code",
   "execution_count": 42,
   "id": "dc93c384",
   "metadata": {},
   "outputs": [
    {
     "name": "stdout",
     "output_type": "stream",
     "text": [
      "dict_keys([(51.00443263351894+0j), (3.9968028886505635e-15+0j), (18.475635861317514+0j), (-1.1895658831680309e-16+5.884231393908818e-16j), (-1.1895658831680309e-16-5.884231393908818e-16j)])\n"
     ]
    }
   ],
   "source": [
    "cov = np.cov(mat)\n",
    "cov\n",
    "eigen_values , eigen_vectors = np.linalg.eig(cov)\n",
    "dic  = {eigen_values[i] : eigen_vectors[:,i] for i in range (len(eigen_values))}\n",
    "print(dic.keys())"
   ]
  },
  {
   "cell_type": "code",
   "execution_count": 49,
   "id": "82159134",
   "metadata": {},
   "outputs": [
    {
     "name": "stdout",
     "output_type": "stream",
     "text": [
      "{(51.00443263351894+0j): array([ 0.405308  +0.j, -0.31681702+0.j,  0.56980086+0.j, -0.46131542+0.j,\n",
      "       -0.44482295+0.j]), (3.9968028886505635e-15+0j): array([-0.91177689+0.j, -0.16091774+0.j,  0.26410712+0.j, -0.14368783+0.j,\n",
      "       -0.2288441 +0.j]), (18.475635861317514+0j): array([ 0.06624449+0.j, -0.27643969+0.j,  0.14887156+0.j,  0.84480367+0.j,\n",
      "       -0.42817845+0.j]), (-1.1895658831680309e-16+5.884231393908818e-16j): array([-0.37322606-0.1856674j ,  0.65802895+0.j        ,\n",
      "        0.29834832+0.31600533j, -0.01585376+0.05131766j,\n",
      "       -0.41012624+0.18239617j]), (-1.1895658831680309e-16-5.884231393908818e-16j): array([-0.37322606+0.1856674j ,  0.65802895-0.j        ,\n",
      "        0.29834832-0.31600533j, -0.01585376-0.05131766j,\n",
      "       -0.41012624-0.18239617j])}\n",
      "[ 5.10044326e+01+0.00000000e+00j  3.99680289e-15+0.00000000e+00j\n",
      "  1.84756359e+01+0.00000000e+00j -1.18956588e-16+5.88423139e-16j\n",
      " -1.18956588e-16-5.88423139e-16j] \n",
      " [[ 0.405308  +0.j         -0.91177689+0.j          0.06624449+0.j\n",
      "  -0.37322606-0.1856674j  -0.37322606+0.1856674j ]\n",
      " [-0.31681702+0.j         -0.16091774+0.j         -0.27643969+0.j\n",
      "   0.65802895+0.j          0.65802895-0.j        ]\n",
      " [ 0.56980086+0.j          0.26410712+0.j          0.14887156+0.j\n",
      "   0.29834832+0.31600533j  0.29834832-0.31600533j]\n",
      " [-0.46131542+0.j         -0.14368783+0.j          0.84480367+0.j\n",
      "  -0.01585376+0.05131766j -0.01585376-0.05131766j]\n",
      " [-0.44482295+0.j         -0.2288441 +0.j         -0.42817845+0.j\n",
      "  -0.41012624+0.18239617j -0.41012624-0.18239617j]]\n",
      "(5,)\n",
      "(5,)\n",
      "(5,)\n",
      "(5,)\n",
      "(5,)\n"
     ]
    },
    {
     "data": {
      "text/plain": [
       "(5,)"
      ]
     },
     "execution_count": 49,
     "metadata": {},
     "output_type": "execute_result"
    }
   ],
   "source": [
    "cov = np.cov(mat)\n",
    "eigen_values , eigen_vectors = np.linalg.eig(cov)\n",
    "dic  = {eigen_values[i] : eigen_vectors[:,i] for i in range (len(eigen_values))}\n",
    "print(dic)\n",
    "print(eigen_values ,'\\n', eigen_vectors)\n",
    "#dic_sorted = sorted(dic , key = dic.get)\n",
    "#Dict_keys=sorted(dic, key=dic , reverse=True)  \n",
    "sorted_eigen_values = sorted(eigen_values , reverse = True)\n",
    "for value in sorted_eigen_values:\n",
    "    print(dic[value].shape)\n",
    "eigen_vectors[:,0].shape"
   ]
  },
  {
   "cell_type": "code",
   "execution_count": 44,
   "id": "dd34b9d7",
   "metadata": {},
   "outputs": [
    {
     "data": {
      "text/plain": [
       "array([[3.74540119, 9.50714306],\n",
       "       [5.98658484, 1.5601864 ],\n",
       "       [0.58083612, 8.66176146],\n",
       "       [7.08072578, 0.20584494],\n",
       "       [8.32442641, 2.12339111]])"
      ]
     },
     "execution_count": 44,
     "metadata": {},
     "output_type": "execute_result"
    }
   ],
   "source": [
    "mat[:,[0,1]]"
   ]
  },
  {
   "cell_type": "markdown",
   "id": "b1dce00a",
   "metadata": {},
   "source": [
    "## test the list sorting and index"
   ]
  },
  {
   "cell_type": "code",
   "execution_count": 6,
   "id": "310e4968",
   "metadata": {},
   "outputs": [
    {
     "data": {
      "text/plain": [
       "0"
      ]
     },
     "execution_count": 6,
     "metadata": {},
     "output_type": "execute_result"
    }
   ],
   "source": [
    "lst = [21,2,3,4]\n",
    "lst.index(21)"
   ]
  },
  {
   "cell_type": "markdown",
   "id": "f42ccf9f",
   "metadata": {},
   "source": [
    "## test argsort in numpy"
   ]
  },
  {
   "cell_type": "code",
   "execution_count": 47,
   "id": "f26fa835",
   "metadata": {},
   "outputs": [
    {
     "data": {
      "text/plain": [
       "array([[2, 1],\n",
       "       [4, 3]])"
      ]
     },
     "execution_count": 47,
     "metadata": {},
     "output_type": "execute_result"
    }
   ],
   "source": [
    "numpy_arr = np.array([1,3,2,4,3,6,7]) \n",
    "np.argsort(numpy_arr)\n",
    "\n",
    "matr = np.array([[1,2] , [3,4]])\n",
    "matr[:,[1,0]]"
   ]
  },
  {
   "cell_type": "markdown",
   "id": "27759975",
   "metadata": {},
   "source": [
    "# important \n",
    "## use np.cov(x.T) not cov(x) \n",
    "## u want the output of cov will return n*n (number of features)"
   ]
  },
  {
   "cell_type": "code",
   "execution_count": 28,
   "id": "8c59a9e3",
   "metadata": {},
   "outputs": [
    {
     "name": "stdout",
     "output_type": "stream",
     "text": [
      "dsfafgdgfffgg\n",
      "f 5\n",
      "g 4\n",
      "d 2\n"
     ]
    }
   ],
   "source": [
    "\n",
    "import math\n",
    "import os\n",
    "import random\n",
    "import re\n",
    "import sys\n",
    "\n",
    "\n",
    "\n",
    "if __name__ == '__main__':\n",
    "    s = input()\n",
    "    Dict={}\n",
    "    for x in sorted(s):\n",
    "        Dict[x]=Dict.get(x,0)+1  \n",
    "    #print (Dict)\n",
    "    #Sorting Dict by value & storing sorted keys in Dict_keys.\n",
    "    Dict_keys=sorted(Dict, key=Dict.get, reverse=True)  \n",
    "    #print(Dict_keys)\n",
    "    for key in Dict_keys[:3]:\n",
    "        print(key,Dict[key])"
   ]
  },
  {
   "cell_type": "code",
   "execution_count": 32,
   "id": "fc5c7404",
   "metadata": {},
   "outputs": [
    {
     "data": {
      "text/plain": [
       "3"
      ]
     },
     "execution_count": 32,
     "metadata": {},
     "output_type": "execute_result"
    }
   ],
   "source": [
    "n = np.array([1,2,3,5,6])\n",
    "np.where(n<6)[0][-1] # get the index of the last element "
   ]
  },
  {
   "cell_type": "code",
   "execution_count": null,
   "id": "d526f9d6",
   "metadata": {},
   "outputs": [],
   "source": []
  }
 ],
 "metadata": {
  "kernelspec": {
   "display_name": "Python 3 (ipykernel)",
   "language": "python",
   "name": "python3"
  },
  "language_info": {
   "codemirror_mode": {
    "name": "ipython",
    "version": 3
   },
   "file_extension": ".py",
   "mimetype": "text/x-python",
   "name": "python",
   "nbconvert_exporter": "python",
   "pygments_lexer": "ipython3",
   "version": "3.8.10"
  }
 },
 "nbformat": 4,
 "nbformat_minor": 5
}
